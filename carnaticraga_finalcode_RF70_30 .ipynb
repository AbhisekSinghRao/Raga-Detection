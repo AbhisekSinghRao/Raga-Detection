{
 "cells": [
  {
   "cell_type": "code",
   "execution_count": 3,
   "metadata": {},
   "outputs": [],
   "source": [
    "import pandas as pd\n",
    "import numpy as np\n",
    "import librosa\n",
    "import librosa.display\n",
    "from numpy import argmax\n",
    "import matplotlib.pyplot as plt\n",
    "%matplotlib inline\n",
    "import IPython.display\n",
    "import random\n",
    "import warnings\n",
    "import os\n",
    "from PIL import Image\n",
    "import pathlib\n",
    "import csv\n",
    "\n"
   ]
  },
  {
   "cell_type": "code",
   "execution_count": 4,
   "metadata": {},
   "outputs": [],
   "source": [
    "from sklearn.model_selection import train_test_split\n",
    "from sklearn.model_selection import RandomizedSearchCV\n",
    "from sklearn.metrics import confusion_matrix\n",
    "from sklearn.model_selection import cross_val_score\n",
    "from sklearn.metrics import accuracy_score\n",
    "from sklearn.metrics import classification_report\n",
    "from sklearn.model_selection import KFold\n",
    "from sklearn.datasets import make_classification\n",
    "from sklearn.preprocessing import MinMaxScaler\n",
    "from sklearn.model_selection import StratifiedKFold\n",
    "from sklearn.preprocessing import LabelEncoder"
   ]
  },
  {
   "cell_type": "code",
   "execution_count": 5,
   "metadata": {},
   "outputs": [
    {
     "data": {
      "text/html": [
       "<div>\n",
       "<style scoped>\n",
       "    .dataframe tbody tr th:only-of-type {\n",
       "        vertical-align: middle;\n",
       "    }\n",
       "\n",
       "    .dataframe tbody tr th {\n",
       "        vertical-align: top;\n",
       "    }\n",
       "\n",
       "    .dataframe thead th {\n",
       "        text-align: right;\n",
       "    }\n",
       "</style>\n",
       "<table border=\"1\" class=\"dataframe\">\n",
       "  <thead>\n",
       "    <tr style=\"text-align: right;\">\n",
       "      <th></th>\n",
       "      <th>filename</th>\n",
       "      <th>chroma_stft</th>\n",
       "      <th>chroma_cqt</th>\n",
       "      <th>chroma_cens</th>\n",
       "      <th>spectral_contrast</th>\n",
       "      <th>rmse</th>\n",
       "      <th>spectral_centroid</th>\n",
       "      <th>spectral_bandwidth</th>\n",
       "      <th>rolloff</th>\n",
       "      <th>zero_crossing_rate</th>\n",
       "      <th>...</th>\n",
       "      <th>mfcc12</th>\n",
       "      <th>mfcc13</th>\n",
       "      <th>mfcc14</th>\n",
       "      <th>mfcc15</th>\n",
       "      <th>mfcc16</th>\n",
       "      <th>mfcc17</th>\n",
       "      <th>mfcc18</th>\n",
       "      <th>mfcc19</th>\n",
       "      <th>mfcc20</th>\n",
       "      <th>label</th>\n",
       "    </tr>\n",
       "  </thead>\n",
       "  <tbody>\n",
       "    <tr>\n",
       "      <th>0</th>\n",
       "      <td>1.wav</td>\n",
       "      <td>0.255603</td>\n",
       "      <td>0.411835</td>\n",
       "      <td>0.255329</td>\n",
       "      <td>23.316300</td>\n",
       "      <td>0.085069</td>\n",
       "      <td>669.906926</td>\n",
       "      <td>508.741177</td>\n",
       "      <td>1133.861275</td>\n",
       "      <td>0.048886</td>\n",
       "      <td>...</td>\n",
       "      <td>7.179214</td>\n",
       "      <td>-8.591133</td>\n",
       "      <td>-3.253313</td>\n",
       "      <td>6.194870</td>\n",
       "      <td>-6.616531</td>\n",
       "      <td>-10.687120</td>\n",
       "      <td>1.931708</td>\n",
       "      <td>2.071558</td>\n",
       "      <td>-3.345204</td>\n",
       "      <td>kalyani</td>\n",
       "    </tr>\n",
       "    <tr>\n",
       "      <th>1</th>\n",
       "      <td>10.wav</td>\n",
       "      <td>0.241670</td>\n",
       "      <td>0.399765</td>\n",
       "      <td>0.244654</td>\n",
       "      <td>23.775806</td>\n",
       "      <td>0.113857</td>\n",
       "      <td>786.492555</td>\n",
       "      <td>556.739951</td>\n",
       "      <td>1332.192317</td>\n",
       "      <td>0.060800</td>\n",
       "      <td>...</td>\n",
       "      <td>5.010662</td>\n",
       "      <td>-7.491447</td>\n",
       "      <td>4.013158</td>\n",
       "      <td>9.317725</td>\n",
       "      <td>-11.686604</td>\n",
       "      <td>-11.678240</td>\n",
       "      <td>3.731367</td>\n",
       "      <td>-3.703391</td>\n",
       "      <td>-9.171062</td>\n",
       "      <td>kalyani</td>\n",
       "    </tr>\n",
       "    <tr>\n",
       "      <th>2</th>\n",
       "      <td>11.wav</td>\n",
       "      <td>0.239753</td>\n",
       "      <td>0.398725</td>\n",
       "      <td>0.243043</td>\n",
       "      <td>23.415107</td>\n",
       "      <td>0.124076</td>\n",
       "      <td>636.953105</td>\n",
       "      <td>488.077231</td>\n",
       "      <td>1044.226009</td>\n",
       "      <td>0.045032</td>\n",
       "      <td>...</td>\n",
       "      <td>4.784718</td>\n",
       "      <td>-6.212992</td>\n",
       "      <td>-1.412664</td>\n",
       "      <td>5.785853</td>\n",
       "      <td>-7.779786</td>\n",
       "      <td>-11.983498</td>\n",
       "      <td>-0.668069</td>\n",
       "      <td>-2.400475</td>\n",
       "      <td>-7.801817</td>\n",
       "      <td>kalyani</td>\n",
       "    </tr>\n",
       "    <tr>\n",
       "      <th>3</th>\n",
       "      <td>12.wav</td>\n",
       "      <td>0.256487</td>\n",
       "      <td>0.415271</td>\n",
       "      <td>0.245733</td>\n",
       "      <td>23.575878</td>\n",
       "      <td>0.114452</td>\n",
       "      <td>662.279047</td>\n",
       "      <td>506.424321</td>\n",
       "      <td>1090.835799</td>\n",
       "      <td>0.047482</td>\n",
       "      <td>...</td>\n",
       "      <td>3.396442</td>\n",
       "      <td>-7.554090</td>\n",
       "      <td>-1.345006</td>\n",
       "      <td>5.911909</td>\n",
       "      <td>-7.515524</td>\n",
       "      <td>-10.843798</td>\n",
       "      <td>-0.261944</td>\n",
       "      <td>-3.208460</td>\n",
       "      <td>-7.055369</td>\n",
       "      <td>kalyani</td>\n",
       "    </tr>\n",
       "    <tr>\n",
       "      <th>4</th>\n",
       "      <td>13.wav</td>\n",
       "      <td>0.256861</td>\n",
       "      <td>0.428064</td>\n",
       "      <td>0.253183</td>\n",
       "      <td>23.489445</td>\n",
       "      <td>0.105791</td>\n",
       "      <td>712.169809</td>\n",
       "      <td>534.091768</td>\n",
       "      <td>1188.003987</td>\n",
       "      <td>0.052376</td>\n",
       "      <td>...</td>\n",
       "      <td>4.435695</td>\n",
       "      <td>-3.489069</td>\n",
       "      <td>5.603341</td>\n",
       "      <td>10.900502</td>\n",
       "      <td>-6.715989</td>\n",
       "      <td>-10.067760</td>\n",
       "      <td>1.676529</td>\n",
       "      <td>-3.200789</td>\n",
       "      <td>-9.293708</td>\n",
       "      <td>kalyani</td>\n",
       "    </tr>\n",
       "  </tbody>\n",
       "</table>\n",
       "<p>5 rows × 31 columns</p>\n",
       "</div>"
      ],
      "text/plain": [
       "  filename  chroma_stft  chroma_cqt  chroma_cens  spectral_contrast      rmse  \\\n",
       "0    1.wav     0.255603    0.411835     0.255329          23.316300  0.085069   \n",
       "1   10.wav     0.241670    0.399765     0.244654          23.775806  0.113857   \n",
       "2   11.wav     0.239753    0.398725     0.243043          23.415107  0.124076   \n",
       "3   12.wav     0.256487    0.415271     0.245733          23.575878  0.114452   \n",
       "4   13.wav     0.256861    0.428064     0.253183          23.489445  0.105791   \n",
       "\n",
       "   spectral_centroid  spectral_bandwidth      rolloff  zero_crossing_rate  \\\n",
       "0         669.906926          508.741177  1133.861275            0.048886   \n",
       "1         786.492555          556.739951  1332.192317            0.060800   \n",
       "2         636.953105          488.077231  1044.226009            0.045032   \n",
       "3         662.279047          506.424321  1090.835799            0.047482   \n",
       "4         712.169809          534.091768  1188.003987            0.052376   \n",
       "\n",
       "   ...    mfcc12    mfcc13    mfcc14     mfcc15     mfcc16     mfcc17  \\\n",
       "0  ...  7.179214 -8.591133 -3.253313   6.194870  -6.616531 -10.687120   \n",
       "1  ...  5.010662 -7.491447  4.013158   9.317725 -11.686604 -11.678240   \n",
       "2  ...  4.784718 -6.212992 -1.412664   5.785853  -7.779786 -11.983498   \n",
       "3  ...  3.396442 -7.554090 -1.345006   5.911909  -7.515524 -10.843798   \n",
       "4  ...  4.435695 -3.489069  5.603341  10.900502  -6.715989 -10.067760   \n",
       "\n",
       "     mfcc18    mfcc19    mfcc20    label  \n",
       "0  1.931708  2.071558 -3.345204  kalyani  \n",
       "1  3.731367 -3.703391 -9.171062  kalyani  \n",
       "2 -0.668069 -2.400475 -7.801817  kalyani  \n",
       "3 -0.261944 -3.208460 -7.055369  kalyani  \n",
       "4  1.676529 -3.200789 -9.293708  kalyani  \n",
       "\n",
       "[5 rows x 31 columns]"
      ]
     },
     "execution_count": 5,
     "metadata": {},
     "output_type": "execute_result"
    }
   ],
   "source": [
    "df = pd.read_csv('four_raga.csv')\n",
    "df.head()\n"
   ]
  },
  {
   "cell_type": "code",
   "execution_count": 6,
   "metadata": {},
   "outputs": [],
   "source": [
    "#all preprocessing\n",
    "# Dropping unneccesary columns\n",
    "df = df.drop(['filename'],axis=1)\n",
    "\n"
   ]
  },
  {
   "cell_type": "code",
   "execution_count": 7,
   "metadata": {},
   "outputs": [],
   "source": [
    "y = df['label']\n",
    "X=df.drop(['label'],axis=1)"
   ]
  },
  {
   "cell_type": "code",
   "execution_count": 8,
   "metadata": {},
   "outputs": [],
   "source": [
    "\n",
    "X, y = make_classification(n_samples=203, n_features=30,n_classes=4, n_clusters_per_class=4,n_informative=4)"
   ]
  },
  {
   "cell_type": "code",
   "execution_count": 9,
   "metadata": {},
   "outputs": [],
   "source": [
    "X_train, X_test, y_train, y_test = train_test_split(X, y, test_size=0.3, random_state=42)"
   ]
  },
  {
   "cell_type": "code",
   "execution_count": 10,
   "metadata": {},
   "outputs": [
    {
     "data": {
      "text/plain": [
       "MinMaxScaler()"
      ]
     },
     "execution_count": 10,
     "metadata": {},
     "output_type": "execute_result"
    }
   ],
   "source": [
    "\n",
    "scaler = MinMaxScaler()\n",
    "scaler.fit(X_test)\n",
    "scaler.fit(X_train)"
   ]
  },
  {
   "cell_type": "code",
   "execution_count": 11,
   "metadata": {},
   "outputs": [],
   "source": [
    "X_test= scaler.transform(X_test)\n",
    "X_train=scaler.transform(X_train)\n"
   ]
  },
  {
   "cell_type": "code",
   "execution_count": 12,
   "metadata": {},
   "outputs": [
    {
     "data": {
      "text/plain": [
       "LabelEncoder()"
      ]
     },
     "execution_count": 12,
     "metadata": {},
     "output_type": "execute_result"
    }
   ],
   "source": [
    "encoder= LabelEncoder()\n",
    "encoder.fit(y_test)\n",
    "encoder.fit(y_train)"
   ]
  },
  {
   "cell_type": "code",
   "execution_count": 13,
   "metadata": {},
   "outputs": [],
   "source": [
    "y_test=encoder.transform(y_test)\n",
    "y_train=encoder.transform(y_train)\n"
   ]
  },
  {
   "cell_type": "code",
   "execution_count": 14,
   "metadata": {},
   "outputs": [
    {
     "data": {
      "text/plain": [
       "array([2, 1, 0, 1, 1, 0, 1, 1, 0, 2, 3, 2, 2, 2, 3, 1, 2, 2, 3, 3, 1, 1,\n",
       "       3, 3, 3, 0, 0, 2, 0, 1, 3, 0, 0, 1, 1, 0, 2, 3, 1, 0, 3, 0, 2, 0,\n",
       "       0, 0, 3, 2, 3, 3, 0, 0, 2, 3, 1, 3, 3, 1, 2, 1, 0, 1, 0, 1, 3, 3,\n",
       "       3, 0, 0, 2, 2, 0, 3, 0, 2, 2, 1, 2, 1, 2, 1, 1, 2, 3, 3, 2, 3, 2,\n",
       "       0, 1, 0, 2, 2, 1, 0, 1, 0, 1, 2, 2, 0, 3, 3, 2, 2, 1, 2, 1, 3, 1,\n",
       "       3, 2, 0, 0, 0, 2, 1, 3, 1, 3, 1, 1, 3, 1, 2, 2, 1, 3, 1, 1, 3, 3,\n",
       "       1, 0, 1, 0, 1, 3, 0, 1, 2, 2], dtype=int64)"
      ]
     },
     "execution_count": 14,
     "metadata": {},
     "output_type": "execute_result"
    }
   ],
   "source": [
    "y_train"
   ]
  },
  {
   "cell_type": "code",
   "execution_count": 16,
   "metadata": {},
   "outputs": [
    {
     "data": {
      "text/plain": [
       "RandomForestClassifier(max_depth=5, n_estimators=1000)"
      ]
     },
     "execution_count": 16,
     "metadata": {},
     "output_type": "execute_result"
    }
   ],
   "source": [
    "from sklearn.ensemble import RandomForestClassifier\n",
    "model = RandomForestClassifier(n_estimators=1000,max_depth=5)\n",
    "model.fit(X_train, y_train)\n"
   ]
  },
  {
   "cell_type": "code",
   "execution_count": 17,
   "metadata": {},
   "outputs": [],
   "source": [
    "\n",
    "pred = model.predict(X_test)\n"
   ]
  },
  {
   "cell_type": "code",
   "execution_count": 18,
   "metadata": {},
   "outputs": [
    {
     "data": {
      "text/plain": [
       "array([3, 3, 1, 2, 2, 3, 0, 1, 3, 0, 1, 0, 3, 1, 3, 1, 1, 2, 1, 2, 3, 1,\n",
       "       1, 2, 2, 0, 1, 3, 2, 2, 2, 1, 1, 1, 1, 0, 1, 0, 3, 3, 0, 2, 3, 0,\n",
       "       3, 0, 0, 0, 0, 1, 3, 2, 0, 0, 2, 2, 1, 1, 3, 2, 2], dtype=int64)"
      ]
     },
     "execution_count": 18,
     "metadata": {},
     "output_type": "execute_result"
    }
   ],
   "source": [
    "pred"
   ]
  },
  {
   "cell_type": "code",
   "execution_count": 19,
   "metadata": {},
   "outputs": [
    {
     "name": "stdout",
     "output_type": "stream",
     "text": [
      "Accuracy: 73.770\n"
     ]
    },
    {
     "data": {
      "text/plain": [
       "0.7377049180327869"
      ]
     },
     "execution_count": 19,
     "metadata": {},
     "output_type": "execute_result"
    }
   ],
   "source": [
    "#Random Forest with 70:30 with out hyperparameter tunning\n",
    "accuracy = accuracy_score(y_test, pred)\n",
    "print('Accuracy: %.3f' % (accuracy*100))\n",
    "accuracy"
   ]
  },
  {
   "cell_type": "code",
   "execution_count": 20,
   "metadata": {},
   "outputs": [
    {
     "name": "stdout",
     "output_type": "stream",
     "text": [
      "              precision    recall  f1-score   support\n",
      "\n",
      "           0       0.71      0.53      0.61        19\n",
      "           1       0.56      1.00      0.71        10\n",
      "           2       0.80      0.75      0.77        16\n",
      "           3       0.93      0.81      0.87        16\n",
      "\n",
      "    accuracy                           0.74        61\n",
      "   macro avg       0.75      0.77      0.74        61\n",
      "weighted avg       0.77      0.74      0.74        61\n",
      "\n"
     ]
    }
   ],
   "source": [
    "print(classification_report(y_test, pred))"
   ]
  },
  {
   "cell_type": "code",
   "execution_count": 21,
   "metadata": {},
   "outputs": [
    {
     "name": "stdout",
     "output_type": "stream",
     "text": [
      "Fitting 10 folds for each of 100 candidates, totalling 1000 fits\n"
     ]
    },
    {
     "name": "stderr",
     "output_type": "stream",
     "text": [
      "[Parallel(n_jobs=-1)]: Using backend LokyBackend with 8 concurrent workers.\n",
      "[Parallel(n_jobs=-1)]: Done  25 tasks      | elapsed:   15.7s\n",
      "[Parallel(n_jobs=-1)]: Done 146 tasks      | elapsed:  1.3min\n",
      "[Parallel(n_jobs=-1)]: Done 349 tasks      | elapsed:  2.8min\n",
      "[Parallel(n_jobs=-1)]: Done 632 tasks      | elapsed:  6.2min\n",
      "[Parallel(n_jobs=-1)]: Done 1000 out of 1000 | elapsed: 15.4min finished\n"
     ]
    },
    {
     "name": "stdout",
     "output_type": "stream",
     "text": [
      "{'n_estimators': 1600, 'max_features': 'auto', 'max_depth': 220}\n"
     ]
    }
   ],
   "source": [
    "# number of trees in random forest\n",
    "n_estimators = [int(x) for x in np.linspace(start = 200, stop = 2000, num = 10)]\n",
    "# number of features at every split\n",
    "max_features = ['auto', 'sqrt']\n",
    "\n",
    "# max depth\n",
    "max_depth = [int(x) for x in np.linspace(100, 500, num = 11)]\n",
    "max_depth.append(None)\n",
    "# create random grid\n",
    "random_grid = {\n",
    " 'n_estimators': n_estimators,\n",
    " 'max_features': max_features,\n",
    " 'max_depth': max_depth\n",
    " }\n",
    "# Random search of parameters\n",
    "skf = StratifiedKFold(n_splits=10, shuffle=True, random_state=1) \n",
    "rfc_random = RandomizedSearchCV(estimator = model, param_distributions = random_grid, n_iter = 100, cv = skf, verbose=2, random_state=42, n_jobs = -1)\n",
    "# Fit the model\n",
    "rfc_random.fit(X_train, y_train)\n",
    "# print results\n",
    "print(rfc_random.best_params_)"
   ]
  },
  {
   "cell_type": "code",
   "execution_count": 23,
   "metadata": {},
   "outputs": [
    {
     "name": "stdout",
     "output_type": "stream",
     "text": [
      "=== Confusion Matrix ===\n",
      "[[12  5  1  1]\n",
      " [ 0 10  0  0]\n",
      " [ 4  0 12  0]\n",
      " [ 0  3  1 12]]\n",
      "\n",
      "\n",
      "=== Classification Report ===\n",
      "              precision    recall  f1-score   support\n",
      "\n",
      "           0       0.75      0.63      0.69        19\n",
      "           1       0.56      1.00      0.71        10\n",
      "           2       0.86      0.75      0.80        16\n",
      "           3       0.92      0.75      0.83        16\n",
      "\n",
      "    accuracy                           0.75        61\n",
      "   macro avg       0.77      0.78      0.76        61\n",
      "weighted avg       0.79      0.75      0.76        61\n",
      "\n"
     ]
    }
   ],
   "source": [
    "rfc = RandomForestClassifier(n_estimators=1600, max_depth=220, max_features='auto')\n",
    "rfc.fit(X_train,y_train)\n",
    "rfc_predict = rfc.predict(X_test)\n",
    "print(\"=== Confusion Matrix ===\")\n",
    "print(confusion_matrix(y_test, rfc_predict))\n",
    "print('\\n')\n",
    "print(\"=== Classification Report ===\")\n",
    "print(classification_report(y_test, rfc_predict))"
   ]
  },
  {
   "cell_type": "code",
   "execution_count": null,
   "metadata": {},
   "outputs": [],
   "source": []
  }
 ],
 "metadata": {
  "kernelspec": {
   "display_name": "Python 3",
   "language": "python",
   "name": "python3"
  },
  "language_info": {
   "codemirror_mode": {
    "name": "ipython",
    "version": 3
   },
   "file_extension": ".py",
   "mimetype": "text/x-python",
   "name": "python",
   "nbconvert_exporter": "python",
   "pygments_lexer": "ipython3",
   "version": "3.8.3"
  }
 },
 "nbformat": 4,
 "nbformat_minor": 4
}
